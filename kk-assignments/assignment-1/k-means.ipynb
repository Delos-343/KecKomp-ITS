{
 "cells": [
  {
   "cell_type": "code",
   "execution_count": null,
   "metadata": {},
   "outputs": [],
   "source": [
    "import numpy as np\n",
    "import pandas as pd\n",
    "import matplotlib.pyplot as plt\n",
    "import seaborn as sns\n",
    "import plotly.express as px\n",
    "from sklearn.cluster import KMeans\n",
    "\n",
    "import warnings\n",
    "warnings.filterwarnings(\"ignore\")"
   ]
  },
  {
   "cell_type": "code",
   "execution_count": null,
   "metadata": {},
   "outputs": [],
   "source": [
    "data = '../datasets/winequality-red.csv'\n",
    "df = pd.read_csv(data)\n",
    "df.head()"
   ]
  },
  {
   "cell_type": "code",
   "execution_count": null,
   "metadata": {},
   "outputs": [],
   "source": [
    "df.drop(['fixed acidity','volatile acidity', 'citric acid', 'residual sugar', 'free sulfur dioxide', 'total sulfur dioxide', 'chlorides'],axis=1,inplace=True)\n",
    "df.shape\n",
    "df.describe()"
   ]
  },
  {
   "cell_type": "code",
   "execution_count": null,
   "metadata": {},
   "outputs": [],
   "source": [
    "plt.figure(1, figsize=(16,4))\n",
    "n = 0 \n",
    "for i in ['alcohol', 'pH', 'sulphates']:\n",
    "    n += 1\n",
    "    plt.subplot(1 , 3 , n)\n",
    "    plt.subplots_adjust(hspace =0.5 , wspace = 0.5)\n",
    "    sns.distplot(df[i] , bins = 32)\n",
    "    plt.title(f'Histogram of {i}')\n",
    "plt.show()"
   ]
  },
  {
   "cell_type": "code",
   "execution_count": null,
   "metadata": {},
   "outputs": [],
   "source": [
    "# First Clustering\n",
    "# Plotting the dataset\n",
    "\n",
    "X1 = df.loc[:, ['pH', 'sulphates']].values\n",
    "inertia = []\n",
    "for n in range(1 , 11):\n",
    "    model = KMeans(n_clusters = n,\n",
    "               init='k-means++',\n",
    "               max_iter=500,\n",
    "               random_state=42)\n",
    "    model.fit(X1)\n",
    "    inertia.append(model.inertia_)"
   ]
  },
  {
   "cell_type": "code",
   "execution_count": null,
   "metadata": {},
   "outputs": [],
   "source": [
    "plt.figure(1 , figsize = (15 ,6))\n",
    "plt.plot(np.arange(1 , 11) , inertia , 'o')\n",
    "plt.plot(np.arange(1 , 11) , inertia , '-' , alpha = 0.5)\n",
    "plt.xlabel('No. : Clusters') , plt.ylabel('Wine Quality')\n",
    "plt.show()"
   ]
  },
  {
   "cell_type": "code",
   "execution_count": null,
   "metadata": {},
   "outputs": [],
   "source": [
    "# FIrst Clustering\n",
    "# By pH and sulfates\n",
    "\n",
    "model = KMeans(n_clusters = 4,\n",
    "            init='k-means++',\n",
    "            max_iter=500,\n",
    "            random_state=42)\n",
    "model.fit(X1)\n",
    "labels = model.labels_\n",
    "centroids = model.cluster_centers_\n",
    "y_kmeans = model.fit_predict(X1) \n",
    "\n",
    "plt.figure(figsize=(20,10))\n",
    "plt.scatter(X1[y_kmeans == 0, 0], X1[y_kmeans == 0, 1], s = 100, c = 'red', label = 'Cluster A')\n",
    "plt.scatter(X1[y_kmeans == 1, 0], X1[y_kmeans == 1, 1], s = 100, c = 'blue', label = 'Cluster B')\n",
    "plt.scatter(X1[y_kmeans == 2, 0], X1[y_kmeans == 2, 1], s = 100, c = 'green', label = 'Cluster C')\n",
    "plt.scatter(X1[y_kmeans == 3, 0], X1[y_kmeans == 3, 1], s = 100, c = 'cyan', label = 'Cluster D')\n",
    "plt.scatter(X1[y_kmeans == 4, 0], X1[y_kmeans == 4, 1], s = 100, c = 'magenta', label = 'Cluster E')\n",
    "plt.title('Clusters of Wine - pH * sulfates')\n",
    "plt.xlabel('pH')\n",
    "plt.ylabel('sulphates')\n",
    "plt.legend()\n",
    "plt.show()"
   ]
  },
  {
   "cell_type": "code",
   "execution_count": null,
   "metadata": {},
   "outputs": [],
   "source": [
    "# Second Clustering\n",
    "# Plotting the dataset\n",
    "\n",
    "X2 = df.loc[:, ['alcohol', 'quality']].values\n",
    "inertia = []\n",
    "for n in range(1 , 11):\n",
    "    model = KMeans(n_clusters = n,\n",
    "               init='k-means++',\n",
    "               max_iter=500,\n",
    "               random_state=42)\n",
    "    model.fit(X2)\n",
    "    inertia.append(model.inertia_)\n",
    "\n",
    "plt.figure(1 , figsize = (20, 10))\n",
    "plt.plot(np.arange(1 , 11) , inertia , 'o')\n",
    "plt.plot(np.arange(1 , 11) , inertia , '-' , alpha = 0.5)\n",
    "plt.xlabel('No. : Clusters') , plt.ylabel('Wine Quality')\n",
    "plt.show()"
   ]
  },
  {
   "cell_type": "code",
   "execution_count": null,
   "metadata": {},
   "outputs": [],
   "source": [
    "# Second Clustering\n",
    "# By alcohol and quality\n",
    "\n",
    "model = KMeans(n_clusters = 5,\n",
    "            init='k-means++',\n",
    "            max_iter=500,\n",
    "            random_state=42)\n",
    "model.fit(X2)\n",
    "labels = model.labels_\n",
    "centroids = model.cluster_centers_\n",
    "y_kmeans = model.fit_predict(X2) \n",
    "\n",
    "plt.figure(figsize=(20,10))\n",
    "plt.scatter(X2[y_kmeans == 0, 0], X2[y_kmeans == 0, 1], s = 100, c = 'red', label = 'Cluster 1')\n",
    "plt.scatter(X2[y_kmeans == 1, 0], X2[y_kmeans == 1, 1], s = 100, c = 'blue', label = 'Cluster 2')\n",
    "plt.scatter(X2[y_kmeans == 2, 0], X2[y_kmeans == 2, 1], s = 100, c = 'green', label = 'Cluster 3')\n",
    "plt.scatter(X2[y_kmeans == 3, 0], X2[y_kmeans == 3, 1], s = 100, c = 'cyan', label = 'Cluster 4')\n",
    "plt.scatter(X2[y_kmeans == 4, 0], X2[y_kmeans == 4, 1], s = 100, c = 'magenta', label = 'Cluster 5')\n",
    "plt.title('Clusters of Wine - alcohol * quality')\n",
    "plt.xlabel('alcohol')\n",
    "plt.ylabel('quality')\n",
    "plt.legend()\n",
    "plt.show()"
   ]
  },
  {
   "cell_type": "code",
   "execution_count": null,
   "metadata": {},
   "outputs": [],
   "source": [
    "# Third Clustering\n",
    "# Plotting the dataset\n",
    "\n",
    "X3 = df.loc[:, ['alcohol', 'quality', 'pH']].values\n",
    "inertia = []\n",
    "for n in range(1 , 11):\n",
    "    model = KMeans(n_clusters = n,\n",
    "               init='k-means++',\n",
    "               max_iter=500,\n",
    "               random_state=42)\n",
    "    model.fit(X3)\n",
    "    inertia.append(model.inertia_)\n",
    "\n",
    "plt.figure(1 , figsize = (20, 10))\n",
    "plt.plot(np.arange(1 , 11) , inertia , 'o')\n",
    "plt.plot(np.arange(1 , 11) , inertia , '-' , alpha = 0.5)\n",
    "plt.xlabel('No. : Clusters') , plt.ylabel('Wine Quality')\n",
    "plt.show()"
   ]
  },
  {
   "cell_type": "code",
   "execution_count": null,
   "metadata": {},
   "outputs": [],
   "source": [
    "# Third Clustering\n",
    "# Identifying the centroid clusters\n",
    "\n",
    "model = KMeans(n_clusters = 6,\n",
    "            init='k-means++',\n",
    "            max_iter=500,\n",
    "            random_state=42)\n",
    "model.fit(X3)\n",
    "labels = model.labels_\n",
    "# centroids = model.cluster_centers_\n",
    "\n",
    "df['cluster'] =  labels\n",
    "df"
   ]
  },
  {
   "cell_type": "code",
   "execution_count": null,
   "metadata": {},
   "outputs": [],
   "source": [
    "# Plotting a scatter plot\n",
    "# 3D Model Representation\n",
    "\n",
    "fig = px.scatter_3d(df,\n",
    "                    x=\"alcohol\",\n",
    "                    y=\"quality\",\n",
    "                    z=\"pH\",\n",
    "                    color='cluster',\n",
    "                    hover_data=[\"alcohol\",\n",
    "                                \"quality\",\n",
    "                                \"pH\"],\n",
    "                    category_orders = {\"cluster\": range(0, 5)},\n",
    "                    )\n",
    "\n",
    "fig.update_layout(margin=dict(l=0, r=0, b=0, t=0))\n",
    "fig.show()"
   ]
  }
 ],
 "metadata": {
  "kernelspec": {
   "display_name": "Python 3",
   "language": "python",
   "name": "python3"
  },
  "language_info": {
   "codemirror_mode": {
    "name": "ipython",
    "version": 3
   },
   "file_extension": ".py",
   "mimetype": "text/x-python",
   "name": "python",
   "nbconvert_exporter": "python",
   "pygments_lexer": "ipython3",
   "version": "3.10.8 (tags/v3.10.8:aaaf517, Oct 11 2022, 16:50:30) [MSC v.1933 64 bit (AMD64)]"
  },
  "orig_nbformat": 4,
  "vscode": {
   "interpreter": {
    "hash": "213524bb45a1aeaf737b1d8c77d7b8db5d425938d9dffc5f4bc6fe6dd3324700"
   }
  }
 },
 "nbformat": 4,
 "nbformat_minor": 2
}
